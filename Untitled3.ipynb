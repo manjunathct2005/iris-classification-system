{
  "nbformat": 4,
  "nbformat_minor": 0,
  "metadata": {
    "colab": {
      "provenance": []
    },
    "kernelspec": {
      "name": "python3",
      "display_name": "Python 3"
    },
    "language_info": {
      "name": "python"
    }
  },
  "cells": [
    {
      "cell_type": "code",
      "execution_count": 1,
      "metadata": {
        "colab": {
          "base_uri": "https://localhost:8080/"
        },
        "id": "oLKLI0SK1Syd",
        "outputId": "1fed1fe4-67e7-4528-b5a9-ca5cedf92d17"
      },
      "outputs": [
        {
          "output_type": "stream",
          "name": "stdout",
          "text": [
            "   Id  SepalLengthCm  SepalWidthCm  PetalLengthCm  PetalWidthCm      Species\n",
            "0   1            5.1           3.5            1.4           0.2  Iris-setosa\n",
            "1   2            4.8           3.0            1.4           0.2  Iris-setosa\n",
            "2   3            4.9           3.2            1.3           0.2  Iris-setosa\n",
            "3   4            5.0           3.1            1.5           0.2  Iris-setosa\n",
            "4   5            5.0           3.6            1.4           0.2  Iris-setosa\n",
            "Accuracy: 1.0\n",
            "Classification Report:\n",
            "                 precision    recall  f1-score   support\n",
            "\n",
            "    Iris-setosa       1.00      1.00      1.00        10\n",
            "Iris-versicolor       1.00      1.00      1.00         9\n",
            " Iris-virginica       1.00      1.00      1.00        11\n",
            "\n",
            "       accuracy                           1.00        30\n",
            "      macro avg       1.00      1.00      1.00        30\n",
            "   weighted avg       1.00      1.00      1.00        30\n",
            "\n",
            "Model saved to iris_species_model.joblib\n",
            "Label encoder saved to label_encoder.joblib\n",
            "Example Predictions:\n",
            "['Iris-versicolor' 'Iris-setosa' 'Iris-virginica' 'Iris-versicolor'\n",
            " 'Iris-versicolor']\n"
          ]
        }
      ],
      "source": [
        "import os\n",
        "import pandas as pd\n",
        "from sklearn.model_selection import train_test_split\n",
        "from sklearn.linear_model import LogisticRegression\n",
        "from sklearn.metrics import accuracy_score, classification_report\n",
        "from sklearn.preprocessing import LabelEncoder\n",
        "import joblib\n",
        "\n",
        "# Load the dataset\n",
        "file_path = \"Iris.csv\"\n",
        "data = pd.read_csv(file_path)\n",
        "\n",
        "# Preview the dataset\n",
        "print(data.head())\n",
        "\n",
        "# Encode the target variable 'Species' as integers\n",
        "label_encoder = LabelEncoder()\n",
        "data['Species'] = label_encoder.fit_transform(data['Species'])\n",
        "\n",
        "# Define features and target variable\n",
        "X = data.drop(columns=['Species', 'Id'])  # Dropping non-relevant columns like 'Id'\n",
        "y = data['Species']\n",
        "\n",
        "# Split the data into training and testing sets\n",
        "X_train, X_test, y_train, y_test = train_test_split(X, y, test_size=0.2, random_state=42)\n",
        "\n",
        "# Initialize and train the model\n",
        "model = LogisticRegression(max_iter=200)\n",
        "model.fit(X_train, y_train)\n",
        "\n",
        "# Make predictions\n",
        "y_pred = model.predict(X_test)\n",
        "\n",
        "# Evaluate the model\n",
        "accuracy = accuracy_score(y_test, y_pred)\n",
        "print(f\"Accuracy: {accuracy}\")\n",
        "print(\"Classification Report:\")\n",
        "print(classification_report(y_test, y_pred, target_names=label_encoder.classes_))\n",
        "\n",
        "# Paths for saving the model and label encoder\n",
        "model_path = \"iris_species_model.joblib\"\n",
        "label_encoder_path = \"label_encoder.joblib\"\n",
        "\n",
        "# Save the model only if it doesn't exist, or overwrite if preferred\n",
        "if not os.path.exists(model_path):\n",
        "    joblib.dump(model, model_path)\n",
        "    print(f\"Model saved to {model_path}\")\n",
        "else:\n",
        "    print(f\"Model file already exists at {model_path}. Skipping save.\")\n",
        "\n",
        "# Save the label encoder only if it doesn't exist, or overwrite if preferred\n",
        "if not os.path.exists(label_encoder_path):\n",
        "    joblib.dump(label_encoder, label_encoder_path)\n",
        "    print(f\"Label encoder saved to {label_encoder_path}\")\n",
        "else:\n",
        "    print(f\"Label encoder file already exists at {label_encoder_path}. Skipping save.\")\n",
        "\n",
        "# Example of loading and using the model\n",
        "loaded_model = joblib.load(model_path)\n",
        "loaded_label_encoder = joblib.load(label_encoder_path)\n",
        "\n",
        "# Predict on new data\n",
        "example_data = X_test.iloc[:5]  # Take some test examples\n",
        "predicted_classes = loaded_model.predict(example_data)\n",
        "decoded_classes = loaded_label_encoder.inverse_transform(predicted_classes)\n",
        "\n",
        "print(\"Example Predictions:\")\n",
        "print(decoded_classes)\n"
      ]
    }
  ]
}